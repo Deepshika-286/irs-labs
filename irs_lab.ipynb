{
  "cells": [
    {
      "cell_type": "markdown",
      "metadata": {
        "id": "view-in-github",
        "colab_type": "text"
      },
      "source": [
        "<a href=\"https://colab.research.google.com/github/Deepshika-286/irs-labs/blob/main/irs_lab.ipynb\" target=\"_parent\"><img src=\"https://colab.research.google.com/assets/colab-badge.svg\" alt=\"Open In Colab\"/></a>"
      ]
    },
    {
      "cell_type": "markdown",
      "id": "45065c80",
      "metadata": {
        "id": "45065c80"
      },
      "source": [
        "week 1 - naive bayes"
      ]
    },
    {
      "cell_type": "code",
      "execution_count": null,
      "id": "e9cda40c",
      "metadata": {
        "id": "e9cda40c",
        "outputId": "decc28ce-3c13-4097-a6c8-d930cf1384dc"
      },
      "outputs": [
        {
          "data": {
            "text/plain": [
              "array(['negative'], dtype='<U8')"
            ]
          },
          "execution_count": 1,
          "metadata": {},
          "output_type": "execute_result"
        }
      ],
      "source": [
        "import pandas as pd\n",
        "df=pd.DataFrame({'review': ['good movie', 'awesome movie loved it', 'bad movie', 'worst movie hated it','time waste','time worth it'],\n",
        "                 'sentiment': ['positive','positive','negative','negative','negative','positive']})\n",
        "from sklearn.model_selection import train_test_split\n",
        "x = df['review']\n",
        "y = df['sentiment']\n",
        "x, x_test, y, y_test = train_test_split(x,y, stratify=y, test_size=0.25, random_state=42)\n",
        "\n",
        "\n",
        "from sklearn.feature_extraction.text import CountVectorizer\n",
        "vec = CountVectorizer(stop_words='english')\n",
        "x = vec.fit_transform(x).toarray()\n",
        "x_test = vec.transform(x_test).toarray()\n",
        "\n",
        "\n",
        "from sklearn.naive_bayes import MultinomialNB\n",
        "model = MultinomialNB()\n",
        "model.fit(x,y)\n",
        "y_pred = model.predict(x_test)\n",
        "\n",
        "\n",
        "model.predict(vec.transform(['worst movie']))"
      ]
    },
    {
      "cell_type": "code",
      "execution_count": null,
      "id": "6fc024b3",
      "metadata": {
        "id": "6fc024b3"
      },
      "outputs": [],
      "source": [
        "week 2 - svm"
      ]
    },
    {
      "cell_type": "code",
      "execution_count": null,
      "id": "749f9ad0",
      "metadata": {
        "id": "749f9ad0",
        "outputId": "448da0b6-56cb-48e7-8014-369c805da15b"
      },
      "outputs": [
        {
          "data": {
            "image/png": "[encoded data removed]",
            "text/plain": [
              "<Figure size 432x288 with 1 Axes>"
            ]
          },
          "metadata": {
            "needs_background": "light"
          },
          "output_type": "display_data"
        },
        {
          "name": "stderr",
          "output_type": "stream",
          "text": [
            "No artists with labels found to put in legend.  Note that artists whose label start with an underscore are ignored when legend() is called with no argument.\n"
          ]
        },
        {
          "data": {
            "image/png": "[encoded data removed]",
            "text/plain": [
              "<Figure size 432x288 with 1 Axes>"
            ]
          },
          "metadata": {
            "needs_background": "light"
          },
          "output_type": "display_data"
        }
      ],
      "source": [
        "import matplotlib.pyplot as plt\n",
        "import numpy as np\n",
        "from sklearn import svm\n",
        "X = np.array([1, 5, 1.5, 8, 1, 9, 7, 8.7, 2.3, 5.5, 7.7, 6.1])\n",
        "y = np.array([2, 8, 1.8, 8, 0.6, 11, 10, 9.4, 4, 3, 8.8, 7.5])\n",
        "plt.scatter(X, y)\n",
        "plt.show()\n",
        "\n",
        "training_X = np.vstack((X, y)).T\n",
        "training_y = [0, 1, 0, 1, 0, 1, 1, 1, 0, 0, 1, 1]\n",
        "clf = svm.SVC(kernel='linear', C=1)\n",
        "clf.fit(training_X, training_y)\n",
        "w = clf.coef_[0]\n",
        "a = -w[0] / w[1]\n",
        "XX = np.linspace(0, 13)\n",
        "yy = a * XX - clf.intercept_[0] / w[1]\n",
        "plt.plot(XX, yy, 'k-')\n",
        "plt.scatter(training_X[:, 0], training_X[:, 1], c=training_y)\n",
        "plt.legend()\n",
        "plt.show()"
      ]
    },
    {
      "cell_type": "code",
      "execution_count": null,
      "id": "04a2c321",
      "metadata": {
        "id": "04a2c321"
      },
      "outputs": [],
      "source": [
        "week 3 - dendogram"
      ]
    },
    {
      "cell_type": "code",
      "execution_count": null,
      "id": "36b87d07",
      "metadata": {
        "scrolled": true,
        "id": "36b87d07",
        "outputId": "908cc545-3ddf-49ee-a571-c560299239bb"
      },
      "outputs": [
        {
          "data": {
            "image/png": "[encoded data removed]",
            "text/plain": [
              "<Figure size 432x288 with 1 Axes>"
            ]
          },
          "metadata": {
            "needs_background": "light"
          },
          "output_type": "display_data"
        }
      ],
      "source": [
        "import numpy as np\n",
        "import matplotlib.pyplot as plt\n",
        "from scipy.cluster.hierarchy import dendrogram, linkage\n",
        "\n",
        "x = [4, 5, 10, 4, 3, 11, 14 , 6, 10, 12]\n",
        "y = [21, 19, 24, 17, 16, 25, 24, 22, 21, 21]\n",
        "\n",
        "\n",
        "data = list(zip(x, y))\n",
        "\n",
        "linkage_data = linkage(data, method='ward')\n",
        "dendrogram(linkage_data)\n",
        "\n",
        "plt.show()"
      ]
    },
    {
      "cell_type": "code",
      "execution_count": null,
      "id": "a4f5a38a",
      "metadata": {
        "id": "a4f5a38a"
      },
      "outputs": [],
      "source": [
        "week 4- jaccard distance"
      ]
    },
    {
      "cell_type": "code",
      "execution_count": null,
      "id": "64597850",
      "metadata": {
        "id": "64597850",
        "outputId": "b1f965bb-6ab2-4f69-d72f-82fc0ded6cef"
      },
      "outputs": [
        {
          "name": "stdout",
          "output_type": "stream",
          "text": [
            "0.3333333333333333\n"
          ]
        }
      ],
      "source": [
        "def calculate_jaccard(word_tokens1, word_tokens2):\n",
        "    both_tokens = word_tokens1 + word_tokens2\n",
        "    union = set(both_tokens)\n",
        "    intersection = set()\n",
        "    for w in word_tokens1:\n",
        "        if w in word_tokens2:\n",
        "            intersection.add(w)\n",
        "    jaccard_score = len(intersection)/len(union)\n",
        "    return jaccard_score\n",
        "a=\"sis\"\n",
        "b=\"sas\"\n",
        "print(calculate_jaccard(a,b))"
      ]
    },
    {
      "cell_type": "code",
      "execution_count": null,
      "id": "c41a36c6",
      "metadata": {
        "id": "c41a36c6"
      },
      "outputs": [],
      "source": [
        "week 5"
      ]
    },
    {
      "cell_type": "code",
      "execution_count": null,
      "id": "6ce45651",
      "metadata": {
        "id": "6ce45651"
      },
      "outputs": [],
      "source": [
        "stemming"
      ]
    },
    {
      "cell_type": "code",
      "execution_count": null,
      "id": "fa479a14",
      "metadata": {
        "id": "fa479a14",
        "outputId": "06ab9deb-1ece-4b67-a843-c917d692b73a"
      },
      "outputs": [
        {
          "name": "stdout",
          "output_type": "stream",
          "text": [
            "program  :  program\n",
            "programs  :  program\n",
            "programmer  :  programm\n",
            "programming  :  program\n",
            "programmers  :  programm\n"
          ]
        }
      ],
      "source": [
        "# import these modules\n",
        "from nltk.stem import PorterStemmer\n",
        "from nltk.tokenize import word_tokenize\n",
        "\n",
        "ps = PorterStemmer()\n",
        "\n",
        "# choose some words to be stemmed\n",
        "words = [\"program\", \"programs\", \"programmer\", \"programming\", \"programmers\"]\n",
        "\n",
        "for w in words:\n",
        "    print(w, \" : \", ps.stem(w))"
      ]
    },
    {
      "cell_type": "code",
      "execution_count": null,
      "id": "5185a7c0",
      "metadata": {
        "id": "5185a7c0"
      },
      "outputs": [],
      "source": [
        "stop words"
      ]
    },
    {
      "cell_type": "code",
      "execution_count": null,
      "id": "5b15852b",
      "metadata": {
        "id": "5b15852b",
        "outputId": "3d086d77-af0e-4f27-aaaf-caba97baf557"
      },
      "outputs": [
        {
          "name": "stdout",
          "output_type": "stream",
          "text": [
            "['ram', 'is', 'a', 'student', 'in', 'anurag', 'univerity', 'where', 'he', 'gets', 'to', 'explore', 'the', 'laboratories', 'at', 'free', 'times']\n",
            "['ram', 'student', 'anurag', 'univerity', 'gets', 'explore', 'laboratories', 'free', 'times']\n"
          ]
        }
      ],
      "source": [
        "from spacy.lang.en import English\n",
        "nlp = English()\n",
        "\n",
        "text = \"\"\"ram is a student in anurag univerity where he gets to explore the laboratories at free times\"\"\"\n",
        "my_doc = nlp(text)\n",
        "\n",
        "\n",
        "token_list = []\n",
        "for token in my_doc:\n",
        "    token_list.append(token.text)\n",
        "\n",
        "from spacy.lang.en.stop_words import STOP_WORDS\n",
        "\n",
        "filtered_sentence =[]\n",
        "\n",
        "for word in token_list:\n",
        "    lexeme = nlp.vocab[word]\n",
        "    if lexeme.is_stop == False:\n",
        "        filtered_sentence.append(word)\n",
        "print(token_list)\n",
        "print(filtered_sentence)"
      ]
    }
  ],
  "metadata": {
    "kernelspec": {
      "display_name": "Python 3 (ipykernel)",
      "language": "python",
      "name": "python3"
    },
    "language_info": {
      "codemirror_mode": {
        "name": "ipython",
        "version": 3
      },
      "file_extension": ".py",
      "mimetype": "text/x-python",
      "name": "python",
      "nbconvert_exporter": "python",
      "pygments_lexer": "ipython3",
      "version": "3.9.12"
    },
    "colab": {
      "provenance": [],
      "include_colab_link": true
    }
  },
  "nbformat": 4,
  "nbformat_minor": 5
}